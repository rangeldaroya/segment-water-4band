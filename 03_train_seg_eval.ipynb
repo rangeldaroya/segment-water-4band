{
 "cells": [
  {
   "cell_type": "code",
   "execution_count": 1,
   "metadata": {},
   "outputs": [
    {
     "name": "stderr",
     "output_type": "stream",
     "text": [
      "/home/rdaroya_umass_edu/miniconda3/envs/lsa/lib/python3.8/site-packages/tqdm/auto.py:21: TqdmWarning: IProgress not found. Please update jupyter and ipywidgets. See https://ipywidgets.readthedocs.io/en/stable/user_install.html\n",
      "  from .autonotebook import tqdm as notebook_tqdm\n"
     ]
    }
   ],
   "source": [
    "from torchvision.models.segmentation import (\n",
    "    lraspp_mobilenet_v3_large,\n",
    "    deeplabv3_resnet50,\n",
    "    deeplabv3_mobilenet_v3_large,\n",
    ")\n",
    "import argparse\n",
    "from loguru import logger\n",
    "import torch.optim as optim\n",
    "from torch.utils.data.dataset import Dataset\n",
    "import torchmetrics\n",
    "from torchmetrics.classification import BinaryJaccardIndex\n",
    "\n",
    "import os\n",
    "import torch\n",
    "import torch.nn as nn\n",
    "import torch.nn.functional as F\n",
    "import fnmatch\n",
    "import numpy as np\n",
    "import torchvision.transforms as transforms\n",
    "from torchvision.models import mobilenetv3, ResNet50_Weights\n",
    "import random\n",
    "import torch.nn.functional as F\n",
    "from loguru import logger\n",
    "from tqdm import tqdm\n",
    "from datetime import datetime\n",
    "import math\n",
    "from models import Model4Band"
   ]
  },
  {
   "cell_type": "code",
   "execution_count": 19,
   "metadata": {},
   "outputs": [
    {
     "data": {
      "text/plain": [
       "'deeplab_resnet'"
      ]
     },
     "execution_count": 19,
     "metadata": {},
     "output_type": "execute_result"
    }
   ],
   "source": [
    "with_transforms = False\n",
    "# ckpt_path = \"ckpts/deeplab_mobilenet/20240120-235106_e45.pth\"\n",
    "# ckpt_path = \"ckpts/deeplab_resnet/20240120-235337_e36.pth\"\n",
    "# ckpt_path = \"ckpts/lraspp/20240120-235412_e38.pth\"\n",
    "# NOTE: ckpts after this, need to do standardization on input image\n",
    "\n",
    "with_transforms = True\n",
    "# ckpt_path = \"ckpts/deeplab_mobilenet/20240121-224805_e72.pth\"\n",
    "ckpt_path = \"ckpts/deeplab_resnet/20240121-225412_e04.pth\"\n",
    "# ckpt_path = \"ckpts/lraspp/20240121-230220_e46.pth\"\n",
    "\n",
    "model_type = ckpt_path.split(\"/\")[-2]\n",
    "model_type"
   ]
  },
  {
   "cell_type": "code",
   "execution_count": 20,
   "metadata": {},
   "outputs": [],
   "source": [
    "class SatelliteDataRGB(Dataset):\n",
    "    \"\"\"\n",
    "    This file is directly modified from https://pytorch.org/docs/stable/torchvision/datasets.html\n",
    "    \"\"\"\n",
    "    def __init__(self, root, crop_size, split='train', transforms=None, is_rgb=False):\n",
    "        self.split = split\n",
    "        self.root = os.path.expanduser(root)\n",
    "        self.transforms = transforms\n",
    "        self.is_rgb = is_rgb\n",
    "\n",
    "        # R\\read the data file\n",
    "        if split==\"train\":\n",
    "            self.data_path = os.path.join(root, 'train')\n",
    "        elif split==\"val\":\n",
    "            self.data_path = os.path.join(root, 'val')\n",
    "        elif split==\"test\":\n",
    "            self.data_path = os.path.join(root, 'test')\n",
    "        else:\n",
    "            raise NotImplementedError\n",
    "\n",
    "        # calculate data length\n",
    "        self.fps = fnmatch.filter(os.listdir(self.data_path), '*.npy')\n",
    "        self.data_len = len(self.fps)\n",
    "        self.crop_size = crop_size\n",
    "\n",
    "    def __getitem__(self, index):\n",
    "        # fp = os.path.join(self.data_path, f\"{index:06d}.npy\")\n",
    "        fp = os.path.join(self.data_path, self.fps[index])\n",
    "        with open(fp, \"rb\") as f:\n",
    "            npzfile = np.load(f)\n",
    "            input_data = npzfile[\"input\"]  # (4, 256, 256) (C,H,W)\n",
    "            output_data = npzfile[\"output\"]  # (1, 256, 256) (C,H,W)\n",
    "        \n",
    "        label = torch.from_numpy(output_data)\n",
    "        if self.is_rgb:\n",
    "            image = torch.from_numpy(input_data[:3,:,:])\n",
    "            if self.transforms is not None:\n",
    "                image = image[:, :self.crop_size, :self.crop_size]\n",
    "                label = label[:, :self.crop_size, :self.crop_size]\n",
    "                image = self.transforms(image)\n",
    "        else:\n",
    "            image = torch.from_numpy(input_data[:,:,:])\n",
    "            # if self.transforms is not None:\n",
    "            image = image[:, :self.crop_size, :self.crop_size]\n",
    "            label = label[:, :self.crop_size, :self.crop_size]\n",
    "            image = image/255.   # normalize 0 to 1\n",
    "            if self.transforms is not None:\n",
    "                image = self.transforms(image)\n",
    "            # img_mean = torch.reshape(torch.mean(image, dim=(1,2)), (4,1,1))\n",
    "            # img_var = torch.reshape(torch.var(image, dim=(1,2)), (4,1,1))\n",
    "            # image = (image - img_mean)/(img_var**0.5)     # standardize\n",
    "        return (\n",
    "            image.type(torch.FloatTensor),\n",
    "            label.type(torch.FloatTensor),\n",
    "        )\n",
    "\n",
    "    def __len__(self):\n",
    "        return self.data_len"
   ]
  },
  {
   "cell_type": "code",
   "execution_count": 21,
   "metadata": {},
   "outputs": [],
   "source": [
    "\n",
    "is_rgb = False\n",
    "model = Model4Band(model_type=model_type).cuda()\n",
    "crop_size = model.crop_size\n",
    "if with_transforms:\n",
    "    trans = transforms.Compose([\n",
    "        transforms.Normalize((0.485, 0.456, 0.406, 0.485), (0.229, 0.224, 0.225, 0.229)),\n",
    "    ])\n",
    "else:\n",
    "    trans = None\n",
    "\n",
    "\n",
    "test_dataset = SatelliteDataRGB(root=\"segtrain_data\", split=\"test\", crop_size=crop_size, transforms=trans, is_rgb=is_rgb)"
   ]
  },
  {
   "cell_type": "code",
   "execution_count": 22,
   "metadata": {},
   "outputs": [
    {
     "data": {
      "text/plain": [
       "<All keys matched successfully>"
      ]
     },
     "execution_count": 22,
     "metadata": {},
     "output_type": "execute_result"
    }
   ],
   "source": [
    "ckpt = torch.load(ckpt_path)\n",
    "model.load_state_dict(ckpt[\"state_dict\"])"
   ]
  },
  {
   "cell_type": "code",
   "execution_count": 23,
   "metadata": {},
   "outputs": [
    {
     "name": "stdout",
     "output_type": "stream",
     "text": [
      "torch.Size([4, 224, 224]) torch.Size([1, 224, 224]) tensor(30073.)\n"
     ]
    }
   ],
   "source": [
    "for x,y in test_dataset:\n",
    "    if torch.sum(y)>0:\n",
    "        print(x.shape, y.shape, torch.sum(y))\n",
    "        break"
   ]
  },
  {
   "cell_type": "code",
   "execution_count": 24,
   "metadata": {},
   "outputs": [
    {
     "data": {
      "text/plain": [
       "<matplotlib.image.AxesImage at 0x7fb496e3d3d0>"
      ]
     },
     "execution_count": 24,
     "metadata": {},
     "output_type": "execute_result"
    },
    {
     "data": {
      "image/png": "[encoded data removed]",
      "text/plain": [
       "<Figure size 640x480 with 1 Axes>"
      ]
     },
     "metadata": {},
     "output_type": "display_data"
    }
   ],
   "source": [
    "from matplotlib import pyplot as plt \n",
    "plt.imshow(y.squeeze(), cmap=\"gray\")"
   ]
  },
  {
   "cell_type": "code",
   "execution_count": 25,
   "metadata": {},
   "outputs": [],
   "source": [
    "# torch.max(pred), torch.min(pred)"
   ]
  },
  {
   "cell_type": "code",
   "execution_count": 26,
   "metadata": {},
   "outputs": [
    {
     "data": {
      "text/plain": [
       "<matplotlib.image.AxesImage at 0x7fb497672c40>"
      ]
     },
     "execution_count": 26,
     "metadata": {},
     "output_type": "execute_result"
    },
    {
     "data": {
      "image/png": "[encoded data removed]",
      "text/plain": [
       "<Figure size 640x480 with 1 Axes>"
      ]
     },
     "metadata": {},
     "output_type": "display_data"
    }
   ],
   "source": [
    "model.eval()\n",
    "pred = model(x.unsqueeze(0).cuda())[\"out\"]\n",
    "pred_np = pred.detach().cpu().numpy().squeeze()\n",
    "pred_np = pred_np>0.5\n",
    "plt.imshow(pred_np)"
   ]
  },
  {
   "cell_type": "code",
   "execution_count": null,
   "metadata": {},
   "outputs": [],
   "source": []
  }
 ],
 "metadata": {
  "kernelspec": {
   "display_name": "lsa",
   "language": "python",
   "name": "python3"
  },
  "language_info": {
   "codemirror_mode": {
    "name": "ipython",
    "version": 3
   },
   "file_extension": ".py",
   "mimetype": "text/x-python",
   "name": "python",
   "nbconvert_exporter": "python",
   "pygments_lexer": "ipython3",
   "version": "3.8.17"
  }
 },
 "nbformat": 4,
 "nbformat_minor": 2
}
