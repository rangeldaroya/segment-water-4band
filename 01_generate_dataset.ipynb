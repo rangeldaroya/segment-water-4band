{
 "cells": [
  {
   "cell_type": "code",
   "execution_count": 1,
   "metadata": {},
   "outputs": [],
   "source": [
    "import rasterio\n",
    "import pandas as pd \n",
    "import numpy as np\n",
    "from matplotlib import pyplot as plt\n",
    "import os"
   ]
  },
  {
   "cell_type": "code",
   "execution_count": 2,
   "metadata": {},
   "outputs": [],
   "source": [
    "from torchvision.models.segmentation import (\n",
    "    lraspp_mobilenet_v3_large,\n",
    "    deeplabv3_resnet50,\n",
    "    deeplabv3_mobilenet_v3_large,\n",
    ")\n",
    "from torchvision.models import mobilenetv3, ResNet50_Weights"
   ]
  },
  {
   "cell_type": "code",
   "execution_count": 3,
   "metadata": {},
   "outputs": [],
   "source": [
    "model = deeplabv3_mobilenet_v3_large(\n",
    "    weights_backbone=\"IMAGENET1K_V1\",\n",
    "    num_classes=1,\n",
    ")"
   ]
  },
  {
   "cell_type": "code",
   "execution_count": 6,
   "metadata": {},
   "outputs": [],
   "source": [
    "trans1 = mobilenetv3.MobileNet_V3_Large_Weights.IMAGENET1K_V1.transforms()\n",
    "trans2 = ResNet50_Weights.IMAGENET1K_V1.transforms()"
   ]
  },
  {
   "cell_type": "code",
   "execution_count": 7,
   "metadata": {},
   "outputs": [
    {
     "data": {
      "text/plain": [
       "(ImageClassification(\n",
       "     crop_size=[224]\n",
       "     resize_size=[256]\n",
       "     mean=[0.485, 0.456, 0.406]\n",
       "     std=[0.229, 0.224, 0.225]\n",
       "     interpolation=InterpolationMode.BILINEAR\n",
       " ),\n",
       " ImageClassification(\n",
       "     crop_size=[224]\n",
       "     resize_size=[256]\n",
       "     mean=[0.485, 0.456, 0.406]\n",
       "     std=[0.229, 0.224, 0.225]\n",
       "     interpolation=InterpolationMode.BILINEAR\n",
       " ))"
      ]
     },
     "execution_count": 7,
     "metadata": {},
     "output_type": "execute_result"
    }
   ],
   "source": [
    "trans1, trans2"
   ]
  },
  {
   "cell_type": "code",
   "execution_count": 2,
   "metadata": {},
   "outputs": [],
   "source": [
    "\n",
    "INPUT_DIR = \"supervised_data\"\n",
    "DATASET_DIR = \"segtrain_data\"\n",
    "input_label_mapping_train = {\n",
    "    f\"{INPUT_DIR}/PNW lakes/PNW_20230612_3_4.tif\": f\"{INPUT_DIR}/PNW lakes/PNW_20230612_3_4_label.tif\",\n",
    "    f'{INPUT_DIR}/Willamette/Willamette_20230606_06.tif': f'{INPUT_DIR}/Willamette/Willamette_20230606_06_label.tif',\n",
    "    f'{INPUT_DIR}/Willamette/Willamette_20230606_07.tif': f'{INPUT_DIR}/Willamette/Willamette_20230606_07_label.tif',\n",
    "}\n",
    "input_label_mapping_val = {\n",
    "    f\"{INPUT_DIR}/PNW lakes/PNW_20230612_1_1.tif\": f\"{INPUT_DIR}/PNW lakes/PNW_20230612_1_1_label.tif\",\n",
    "}\n",
    "input_label_mapping_test = {\n",
    "    f'{INPUT_DIR}/Willamette/Willamette_20230606_08.tif': f'{INPUT_DIR}/Willamette/Willamette_20230606_08_label.tif',\n",
    "}"
   ]
  },
  {
   "cell_type": "code",
   "execution_count": 57,
   "metadata": {},
   "outputs": [
    {
     "name": "stdout",
     "output_type": "stream",
     "text": [
      "290\n"
     ]
    }
   ],
   "source": [
    "\n",
    "output_chunks = []\n",
    "input_chunks = []\n",
    "for k,v in input_label_mapping_test.items():\n",
    "    input_dataset = rasterio.open(k)\n",
    "    input_data = input_dataset.read()\n",
    "    output_dataset = rasterio.open(v)\n",
    "    output_data = output_dataset.read()\n",
    "\n",
    "    _, s1,s2 = output_data.shape\n",
    "    chunk_size = 256\n",
    "    for i in range(s1//chunk_size):\n",
    "        for j in range(s2//chunk_size):\n",
    "            input_chunk = input_data[:, i*chunk_size : (i+1)*chunk_size, j*chunk_size : (j+1)*chunk_size,]\n",
    "            output_chunk = output_data[:, i*chunk_size : (i+1)*chunk_size, j*chunk_size : (j+1)*chunk_size,]\n",
    "            input_chunks.append(input_chunk)\n",
    "            output_chunks.append(output_chunk)\n",
    "    #         break\n",
    "    #     break\n",
    "    # break\n",
    "num_pos_samples = 0\n",
    "ctr = 0\n",
    "for inp, outp in zip(input_chunks, output_chunks):\n",
    "    out_path = os.path.join(DATASET_DIR, \"test\", f\"{ctr:06d}.npy\")\n",
    "    with open(out_path, \"wb\") as f:\n",
    "        np.savez(\n",
    "            f,\n",
    "            input=inp,\n",
    "            output=outp,\n",
    "        )\n",
    "    ctr += 1\n",
    "    if np.sum(outp)>0:\n",
    "        num_pos_samples += 1\n",
    "print(num_pos_samples)"
   ]
  },
  {
   "cell_type": "code",
   "execution_count": 58,
   "metadata": {},
   "outputs": [
    {
     "data": {
      "text/plain": [
       "((4, 256, 256), (1, 256, 256))"
      ]
     },
     "execution_count": 58,
     "metadata": {},
     "output_type": "execute_result"
    }
   ],
   "source": [
    "inp.shape, outp.shape"
   ]
  },
  {
   "cell_type": "code",
   "execution_count": 54,
   "metadata": {},
   "outputs": [
    {
     "data": {
      "text/plain": [
       "0.05135294117647059"
      ]
     },
     "execution_count": 54,
     "metadata": {},
     "output_type": "execute_result"
    }
   ],
   "source": [
    "873/17000"
   ]
  }
 ],
 "metadata": {
  "kernelspec": {
   "display_name": "lsa",
   "language": "python",
   "name": "python3"
  },
  "language_info": {
   "codemirror_mode": {
    "name": "ipython",
    "version": 3
   },
   "file_extension": ".py",
   "mimetype": "text/x-python",
   "name": "python",
   "nbconvert_exporter": "python",
   "pygments_lexer": "ipython3",
   "version": "3.8.17"
  }
 },
 "nbformat": 4,
 "nbformat_minor": 2
}
