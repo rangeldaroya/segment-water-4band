{
 "cells": [
  {
   "cell_type": "code",
   "execution_count": 12,
   "metadata": {},
   "outputs": [],
   "source": [
    "from osgeo import gdal, ogr\n",
    "import os"
   ]
  },
  {
   "cell_type": "code",
   "execution_count": 19,
   "metadata": {},
   "outputs": [
    {
     "name": "stdout",
     "output_type": "stream",
     "text": [
      "Rasterising shapefile...\n"
     ]
    }
   ],
   "source": [
    "# Reference: https://gis.stackexchange.com/a/222454\n",
    "# A script to rasterise a shapefile to the same projection & pixel resolution as a reference image.\n",
    "from osgeo import ogr, gdal\n",
    "import subprocess\n",
    "DATA_DIR = \"supervised_data\"\n",
    "input_label_mapping = {\n",
    "    # \"PNW lakes/PNW_20230612_1_1.tif\": \"PNW lakes/PNW_NV5_06122023_1_1/PNW_NV5_06122023_1_1_AJT_manualwatermask.shp\",\n",
    "    # \"PNW lakes/PNW_20230612_3_4.tif\": \"PNW lakes/PNW_NV5_06122023_3_4/PNW_NV5_06122023_3_4_AJT_manualwatermask.shp\",\n",
    "    # 'Willamette/Willamette_20230606_06.tif': \"Willamette/WM_20230606_06/WM_NV5_06062023_06_WT_AT_manualwatermask.shp\",\n",
    "    # 'Willamette/Willamette_20230606_07.tif': \"Willamette/WM_20230606_07/WM_NV5_06062023_07_AJT_manualwatermask.shp\",\n",
    "    'Willamette/Willamette_20230606_08.tif': \"Willamette/WM_20230606_08/WM_NV5_06062023_08_AJT_manualwatermask.shp\",\n",
    "}\n",
    "# for k,v in input_label_mapping.items():\n",
    "# InputVector = os.path.join(DATA_DIR, k)\n",
    "# RefImage = os.path.join(DATA_DIR, v)\n",
    "# print(InputVector)\n",
    "# print(RefImage)\n",
    "InputVector = 'supervised_data/Willamette/WM_20230606_08/WM_NV5_06062023_08_AJT_manualwatermask.shp'\n",
    "\n",
    "RefImage = 'supervised_data/Willamette/Willamette_20230606_08.tif'\n",
    "OutputImage = RefImage.replace(\".tif\", \"_label.tif\")\n",
    "\n",
    "gdalformat = 'GTiff'\n",
    "datatype = gdal.GDT_Byte\n",
    "burnVal = 1 #value for the output image pixels\n",
    "##########################################################\n",
    "# Get projection info from reference image\n",
    "Image = gdal.Open(RefImage, gdal.GA_ReadOnly)\n",
    "\n",
    "# Open Shapefile\n",
    "Shapefile = ogr.Open(InputVector)\n",
    "Shapefile_layer = Shapefile.GetLayer()\n",
    "\n",
    "# Rasterise\n",
    "print(\"Rasterising shapefile...\")\n",
    "Output = gdal.GetDriverByName(gdalformat).Create(OutputImage, Image.RasterXSize, Image.RasterYSize, 1, datatype, options=['COMPRESS=DEFLATE'])\n",
    "Output.SetProjection(Image.GetProjectionRef())\n",
    "Output.SetGeoTransform(Image.GetGeoTransform()) \n",
    "\n",
    "# Write data to band 1\n",
    "Band = Output.GetRasterBand(1)\n",
    "Band.SetNoDataValue(0)\n",
    "gdal.RasterizeLayer(Output, [1], Shapefile_layer, burn_values=[burnVal])\n",
    "\n",
    "# Close datasets\n",
    "Band = None\n",
    "Output = None\n",
    "Image = None\n",
    "Shapefile = None\n",
    "\n",
    "# # Build image overviews\n",
    "# subprocess.call(\"gdaladdo --config COMPRESS_OVERVIEW DEFLATE \"+OutputImage+\" 2 4 8 16 32 64\", shell=True)\n",
    "# print(\"Done.\")"
   ]
  },
  {
   "cell_type": "code",
   "execution_count": 3,
   "metadata": {},
   "outputs": [],
   "source": [
    "import rasterio\n",
    "fp = \"Result.tif\"\n",
    "dataset = rasterio.open(fp)\n",
    "data = dataset.read()"
   ]
  },
  {
   "cell_type": "code",
   "execution_count": 7,
   "metadata": {},
   "outputs": [
    {
     "data": {
      "text/plain": [
       "<matplotlib.image.AxesImage at 0x7f4a61b7a1d0>"
      ]
     },
     "execution_count": 7,
     "metadata": {},
     "output_type": "execute_result"
    },
    {
     "data": {
      "image/png": "[encoded data removed]",
      "text/plain": [
       "<Figure size 640x480 with 1 Axes>"
      ]
     },
     "metadata": {},
     "output_type": "display_data"
    }
   ],
   "source": [
    "\n",
    "from matplotlib import pyplot as plt\n",
    "plt.imshow(data[0,:,:], cmap=\"gray\")"
   ]
  },
  {
   "cell_type": "code",
   "execution_count": 38,
   "metadata": {},
   "outputs": [],
   "source": [
    "import rasterio\n",
    "from PIL import Image \n",
    "import cv2\n",
    "from matplotlib import pyplot as plt\n",
    "import os\n",
    "import glob\n",
    "import geopandas as gpd"
   ]
  },
  {
   "cell_type": "code",
   "execution_count": 31,
   "metadata": {},
   "outputs": [
    {
     "data": {
      "text/plain": [
       "(['supervised_data/PNW lakes/PNW_20230612_1_1.tif',\n",
       "  'supervised_data/PNW lakes/PNW_20230612_3_4.tif',\n",
       "  'supervised_data/Willamette/Willamette_20230606_06.tif',\n",
       "  'supervised_data/Willamette/Willamette_20230606_07.tif',\n",
       "  'supervised_data/Willamette/Willamette_20230606_08.tif'],\n",
       " [])"
      ]
     },
     "execution_count": 31,
     "metadata": {},
     "output_type": "execute_result"
    }
   ],
   "source": [
    "DATA_DIR = \"supervised_data\"\n",
    "input_label_mapping = {\n",
    "    \"PNW lakes/PNW_20230612_1_1.tif\": \"PNW lakes/PNW_NV5_06122023_1_1/PNW_NV5_06122023_1_1_AJT_manualwatermask.shp\",\n",
    "    \"PNW lakes/PNW_20230612_3_4.tif\": \"PNW lakes/PNW_NV5_06122023_3_4/PNW_NV5_06122023_3_4_AJT_manualwatermask.shp\",\n",
    "    'Willamette/Willamette_20230606_06.tif': \"Willamette/WM_20230606_06/WM_NV5_06062023_06_WT_AT_manualwatermask.shp\",\n",
    "    'Willamette/Willamette_20230606_07.tif': \"Willamette/WM_20230606_07/WM_NV5_06062023_07_AJT_manualwatermask.shp\",\n",
    "    'Willamette/Willamette_20230606_08.tif': \"Willamette/WM_20230606_08/WM_NV5_06062023_08_AJT_manualwatermask.shp\",\n",
    "}"
   ]
  },
  {
   "cell_type": "code",
   "execution_count": 40,
   "metadata": {},
   "outputs": [],
   "source": [
    "fp = \"PNW lakes/PNW_NV5_06122023_1_1/PNW_NV5_06122023_1_1_AJT_manualwatermask.shp\"\n",
    "# dataset = rasterio.open(os.path.join(DATA_DIR, fp))\n",
    "# data = dataset.read()\n",
    "\n",
    "data = gpd.read_file(os.path.join(DATA_DIR, fp))"
   ]
  },
  {
   "cell_type": "code",
   "execution_count": 46,
   "metadata": {},
   "outputs": [
    {
     "data": {
      "text/plain": [
       "<GeometryArray>\n",
       "[<POLYGON ((569036.78 5272340.413, 567998.813 5272340.056, 568680.843 5273597...>,\n",
       " <POLYGON ((569617.683 5276136.287, 569236.36 5275834.867, 568597.729 5275603...>,\n",
       " <POLYGON ((568597.729 5275603.897, 569236.36 5275834.867, 568680.843 5273597...>]\n",
       "Length: 3, dtype: geometry"
      ]
     },
     "execution_count": 46,
     "metadata": {},
     "output_type": "execute_result"
    }
   ],
   "source": [
    "data[\"geometry\"].values"
   ]
  }
 ],
 "metadata": {
  "kernelspec": {
   "display_name": "lsa",
   "language": "python",
   "name": "python3"
  },
  "language_info": {
   "codemirror_mode": {
    "name": "ipython",
    "version": 3
   },
   "file_extension": ".py",
   "mimetype": "text/x-python",
   "name": "python",
   "nbconvert_exporter": "python",
   "pygments_lexer": "ipython3",
   "version": "3.10.12"
  }
 },
 "nbformat": 4,
 "nbformat_minor": 2
}
